{
 "cells": [
  {
   "cell_type": "code",
   "execution_count": 1,
   "metadata": {},
   "outputs": [],
   "source": [
    "# \"MANUAL\" DE USO\n",
    "\n",
    "#Para usar este código solamente se necesita darle a 'Run' sección por sección\n",
    "#para que funcione correctamente\n",
    "\n",
    "# Importar las librerías a utilizar\n",
    "import pandas as pd\n",
    "import seaborn as sns\n",
    "import matplotlib.pylab as plt\n",
    "import numpy as np"
   ]
  },
  {
   "cell_type": "code",
   "execution_count": 2,
   "metadata": {},
   "outputs": [
    {
     "name": "stdout",
     "output_type": "stream",
     "text": [
      "shape:  (96, 5)\n",
      "Hay 96 datos.\n"
     ]
    },
    {
     "data": {
      "text/html": [
       "<div>\n",
       "<style scoped>\n",
       "    .dataframe tbody tr th:only-of-type {\n",
       "        vertical-align: middle;\n",
       "    }\n",
       "\n",
       "    .dataframe tbody tr th {\n",
       "        vertical-align: top;\n",
       "    }\n",
       "\n",
       "    .dataframe thead th {\n",
       "        text-align: right;\n",
       "    }\n",
       "</style>\n",
       "<table border=\"1\" class=\"dataframe\">\n",
       "  <thead>\n",
       "    <tr style=\"text-align: right;\">\n",
       "      <th></th>\n",
       "      <th>Species</th>\n",
       "      <th>Brain</th>\n",
       "      <th>Body</th>\n",
       "      <th>Gestation</th>\n",
       "      <th>Litter</th>\n",
       "    </tr>\n",
       "  </thead>\n",
       "  <tbody>\n",
       "    <tr>\n",
       "      <th>0</th>\n",
       "      <td>Aardvark</td>\n",
       "      <td>9.6</td>\n",
       "      <td>2.20</td>\n",
       "      <td>31</td>\n",
       "      <td>5.0</td>\n",
       "    </tr>\n",
       "    <tr>\n",
       "      <th>1</th>\n",
       "      <td>Acouchis</td>\n",
       "      <td>9.9</td>\n",
       "      <td>0.78</td>\n",
       "      <td>98</td>\n",
       "      <td>1.2</td>\n",
       "    </tr>\n",
       "    <tr>\n",
       "      <th>2</th>\n",
       "      <td>African elephant</td>\n",
       "      <td>4480.0</td>\n",
       "      <td>2800.00</td>\n",
       "      <td>655</td>\n",
       "      <td>1.0</td>\n",
       "    </tr>\n",
       "    <tr>\n",
       "      <th>3</th>\n",
       "      <td>Agoutis</td>\n",
       "      <td>20.3</td>\n",
       "      <td>2.80</td>\n",
       "      <td>104</td>\n",
       "      <td>1.3</td>\n",
       "    </tr>\n",
       "    <tr>\n",
       "      <th>4</th>\n",
       "      <td>Axis deer</td>\n",
       "      <td>219.0</td>\n",
       "      <td>89.00</td>\n",
       "      <td>218</td>\n",
       "      <td>1.0</td>\n",
       "    </tr>\n",
       "  </tbody>\n",
       "</table>\n",
       "</div>"
      ],
      "text/plain": [
       "            Species   Brain     Body  Gestation  Litter\n",
       "0          Aardvark     9.6     2.20         31     5.0\n",
       "1          Acouchis     9.9     0.78         98     1.2\n",
       "2  African elephant  4480.0  2800.00        655     1.0\n",
       "3           Agoutis    20.3     2.80        104     1.3\n",
       "4         Axis deer   219.0    89.00        218     1.0"
      ]
     },
     "execution_count": 2,
     "metadata": {},
     "output_type": "execute_result"
    }
   ],
   "source": [
    "# Leer los datos a analizar\n",
    "mam = pd.read_csv(\"Mammal_brains.csv\")\n",
    "print('shape: ', mam.shape)\n",
    "print(\"Hay 96 datos.\")\n",
    "mam.head() "
   ]
  },
  {
   "cell_type": "code",
   "execution_count": 15,
   "metadata": {
    "scrolled": true
   },
   "outputs": [
    {
     "name": "stdout",
     "output_type": "stream",
     "text": [
      "La varianza es:\n",
      " Brain        506.968011\n",
      "Body         329.411403\n",
      "Gestation    108.066086\n",
      "Litter         1.747026\n",
      "dtype: float64\n"
     ]
    },
    {
     "data": {
      "text/plain": [
       "Species       object\n",
       "Brain        float64\n",
       "Body         float64\n",
       "Gestation      int64\n",
       "Litter       float64\n",
       "dtype: object"
      ]
     },
     "execution_count": 15,
     "metadata": {},
     "output_type": "execute_result"
    }
   ],
   "source": [
    "#Se crea el dataframe y se calcula la varianza\n",
    "dfmam = pd.DataFrame(mam)\n",
    "#dfmam.head()\n"
   ]
  },
  {
   "cell_type": "code",
   "execution_count": 16,
   "metadata": {},
   "outputs": [
    {
     "data": {
      "text/plain": [
       "Species       object\n",
       "Brain        float64\n",
       "Body         float64\n",
       "Gestation      int64\n",
       "Litter       float64\n",
       "dtype: object"
      ]
     },
     "execution_count": 16,
     "metadata": {},
     "output_type": "execute_result"
    }
   ],
   "source": [
    "#Para saber los tipos de datos en el archivo se utiliza dtypes\n",
    "dfmam.dtypes"
   ]
  },
  {
   "cell_type": "code",
   "execution_count": 31,
   "metadata": {},
   "outputs": [
    {
     "data": {
      "text/plain": [
       "Species      0\n",
       "Brain        0\n",
       "Body         0\n",
       "Gestation    0\n",
       "Litter       0\n",
       "dtype: int64"
      ]
     },
     "execution_count": 31,
     "metadata": {},
     "output_type": "execute_result"
    }
   ],
   "source": [
    "dfmam.isnull().sum()\n",
    "#No hay datos vacíos"
   ]
  },
  {
   "cell_type": "code",
   "execution_count": 17,
   "metadata": {},
   "outputs": [
    {
     "name": "stdout",
     "output_type": "stream",
     "text": [
      "El peso cerebral máximo es de:  4480.0\n",
      "El peso corporal máximo es de:  2800.0\n",
      "El periodo de gestación máximo es de:  655\n",
      "El tamaño de camada máximo es de:  8.0\n",
      "El peso cerebral mínimo es de:  0.45\n",
      "El peso corporal mínimo es de:  0.017\n",
      "El periodo de gestación mínimo es de:  16\n",
      "El tamaño de camada mínimo es de:  1.0\n"
     ]
    }
   ],
   "source": [
    "#print (\"Función max en Pandas:\", edu['Value'].max())\n",
    "print(\"El peso cerebral máximo es de: \", mam['Brain'].max())\n",
    "print(\"El peso corporal máximo es de: \", mam['Body'].max())\n",
    "print(\"El periodo de gestación máximo es de: \", mam['Gestation'].max())\n",
    "print(\"El tamaño de camada máximo es de: \", mam['Litter'].max())\n",
    "print(\"El peso cerebral mínimo es de: \", mam['Brain'].min())\n",
    "print(\"El peso corporal mínimo es de: \", mam['Body'].min())\n",
    "print(\"El periodo de gestación mínimo es de: \", mam['Gestation'].min())\n",
    "print(\"El tamaño de camada mínimo es de: \", mam['Litter'].min())"
   ]
  },
  {
   "cell_type": "code",
   "execution_count": 21,
   "metadata": {},
   "outputs": [
    {
     "name": "stdout",
     "output_type": "stream",
     "text": [
      "Promedio de cada columna:\n",
      " Brain        218.976979\n",
      "Body         108.327750\n",
      "Gestation    151.260417\n",
      "Litter         2.310417\n",
      "dtype: float64\n",
      "\n",
      "Mediana de cada columna:\n",
      " Brain         74.0\n",
      "Body           8.9\n",
      "Gestation    133.5\n",
      "Litter         1.2\n",
      "dtype: float64\n",
      "\n",
      "La desviación estándar por columna:\n",
      " Brain        506.968011\n",
      "Body         329.411403\n",
      "Gestation    108.066086\n",
      "Litter         1.747026\n",
      "dtype: float64\n"
     ]
    }
   ],
   "source": [
    "prom = mam.mean()\n",
    "mediana = mam.median()\n",
    "desv = dfmam.std()\n",
    "\n",
    "print(\"Promedio de cada columna:\\n\", prom)\n",
    "print(\"\\nMediana de cada columna:\\n\", mediana)\n",
    "print(\"\\nLa desviación estándar por columna:\\n\",desv)\n"
   ]
  }
 ],
 "metadata": {
  "kernelspec": {
   "display_name": "Python 3",
   "language": "python",
   "name": "python3"
  },
  "language_info": {
   "codemirror_mode": {
    "name": "ipython",
    "version": 3
   },
   "file_extension": ".py",
   "mimetype": "text/x-python",
   "name": "python",
   "nbconvert_exporter": "python",
   "pygments_lexer": "ipython3",
   "version": "3.8.5"
  }
 },
 "nbformat": 4,
 "nbformat_minor": 4
}
